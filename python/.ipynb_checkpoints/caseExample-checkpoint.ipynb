{
 "cells": [
  {
   "cell_type": "markdown",
   "id": "d2a27608",
   "metadata": {},
   "source": [
    "## Configuration of a simulation case (*caseExample*)\n",
    "\n",
    "### Importing required libraries\n",
    "\n",
    "Some of these are well known libraries such as *numpy* and *matplotlib* (they can be installed using pip). We also need to import the library *utils* containing predefined functionalities for this software. "
   ]
  },
  {
   "cell_type": "code",
   "execution_count": null,
   "id": "a13ba98c",
   "metadata": {},
   "outputs": [],
   "source": [
    "import os\n",
    "import math                    \n",
    "import numpy as np             \n",
    "import matplotlib.pyplot as plt \n",
    "import re\n",
    "from glob import glob\n",
    "from utils import modify_header_file,write_config,write_initial,write_equilibrium,backup_file,restore_file,compile_program,run_program,initialize_variables,read_data_euler"
   ]
  },
  {
   "cell_type": "markdown",
   "id": "9b89276e",
   "metadata": {},
   "source": [
    "### Setting up the paths\n",
    "\n",
    "First, the name of the folder for this test case must be specified:"
   ]
  },
  {
   "cell_type": "code",
   "execution_count": null,
   "id": "227ed115",
   "metadata": {},
   "outputs": [],
   "source": [
    "#This test case will run in the folder \"caseExample/\". \n",
    "#Don't forget the bar (/). \n",
    "#This directory should have been created prior to the execution to this script, and should also contain an /out folder inside\n",
    "folder_case=\"caseExample/\" "
   ]
  },
  {
   "cell_type": "markdown",
   "id": "a704b9fb",
   "metadata": {},
   "source": [
    "Then, all the paths are automatically assigned:"
   ]
  },
  {
   "cell_type": "code",
   "execution_count": null,
   "id": "b0403973",
   "metadata": {},
   "outputs": [],
   "source": [
    "#Do not modify the folders and paths below\n",
    "script_dir = os.path.dirname(os.path.abspath(__file__))\n",
    "folder_out=\"out/\"\n",
    "folder_lib=\"lib\"\n",
    "fname_config=\"configure.input\"\n",
    "fname_eq=\"equilibrium.out\"\n",
    "fname_ini=\"initial.out\"\n",
    "folder_out = os.path.join(script_dir, \"../\"+folder_case+\"/\"+folder_out)\n",
    "folder_case = os.path.join(script_dir, \"../\"+folder_case)\n",
    "folder_lib = os.path.join(script_dir, \"../\"+folder_lib)\n",
    "folder_exe = os.path.join(script_dir, \"../\")"
   ]
  },
  {
   "cell_type": "markdown",
   "id": "dc4480be",
   "metadata": {},
   "source": [
    "### Setting up the compilation variables (*definitions.h*)\n",
    "\n",
    "Here, we can modify those variables that need to be set before compilation and are found in the file *definitions.h*. Don't worry if you mess up things here, a backup of the original file is created before modification and will be restored at the end of this script, after compilation and execution."
   ]
  },
  {
   "cell_type": "code",
   "execution_count": null,
   "id": "f6b1a701",
   "metadata": {},
   "outputs": [],
   "source": [
    "#Do not change the line below, it creates a backup of the definitions.h file\n",
    "backup_file(folder_lib+'/definitions.h')\n",
    "#Configure the header file for compilation. Add as many lines as desired for the macros you want to modify.\n",
    "modify_header_file(folder_lib+'/definitions.h', 'NTRHEADS', 2)         #number of threads\n",
    "modify_header_file(folder_lib+'/definitions.h', 'EQUATION_SYSTEM', 2)  #System of equations solved\n",
    "modify_header_file(folder_lib+'/definitions.h', 'ST', 3)               #Source term type\n",
    "modify_header_file(folder_lib+'/definitions.h', 'SOLVER', 0)           #Riemann solver used\n",
    "modify_header_file(folder_lib+'/definitions.h', 'READ_INITIAL', 1)     #Read or not initial data, this should ALWAYS be 1"
   ]
  },
  {
   "cell_type": "markdown",
   "id": "36cdc85a",
   "metadata": {},
   "source": [
    "### Configure the global simulation parameters\n",
    "\n",
    "We can set the global simulation parameters as desired:"
   ]
  },
  {
   "cell_type": "code",
   "execution_count": null,
   "id": "0e554856",
   "metadata": {},
   "outputs": [],
   "source": [
    "#Simulation setup\n",
    "FinalTime = 800.0\n",
    "DumpTime = 100.0  #for file printing\n",
    "CFL = 0.45\n",
    "Order = 7\n",
    "\n",
    "#Mesh setup\n",
    "xcells = 100\n",
    "ycells = 1\n",
    "zcells = 50\n",
    "SizeX = 20000.0\n",
    "SizeY = 1000.0\n",
    "SizeZ = 10000.0\n",
    "\n",
    "#Boundary conditions\n",
    "Face_1 = 4 #-y\n",
    "Face_2 = 4 #+x\n",
    "Face_3 = 4 #+y\n",
    "Face_4 = 4 #-x\n",
    "Face_5 = 4 #-z\n",
    "Face_6 = 4 #+z\n",
    "\n",
    "#Linear transport, only if applicable\n",
    "u_x = 1.0\n",
    "u_y = 1.0\n",
    "u_z = 1.0"
   ]
  },
  {
   "cell_type": "markdown",
   "id": "e2fc0876",
   "metadata": {},
   "source": [
    "### Define the initial condition\n",
    "\n",
    "To define the initial condition we first need to create the arrays and initialize some variables:"
   ]
  },
  {
   "cell_type": "code",
   "execution_count": null,
   "id": "9c9e93e5",
   "metadata": {},
   "outputs": [],
   "source": [
    "xc, yc, zc, u, v, w, rho, p, phi, ue, ve, we, rhoe, pe = initialize_variables(xcells, ycells, zcells, SizeX, SizeY, SizeZ)"
   ]
  },
  {
   "cell_type": "markdown",
   "id": "0c64640a",
   "metadata": {},
   "source": [
    "Among these, we have:\n",
    "- the problem variables: ```u, v, w, rho, p, phi```\n",
    "- the equilibrium variables (for atmospheric cases): ```ue, ve, we, rhoe, pe```\n",
    "\n",
    "Then we can set the initial condition using those variables. To do this, we loop over the three cartesian indexes $(l,m,n)$ and assign the variables, e.g. $\\rho(x_l,y_m,z_n)=...$ is set as ```rho[l,m,n]=...```. Cell centers are given by: ```xc[l,m,n]```, ```yc[l,m,n]``` and ```zc[l,m,n]```."
   ]
  },
  {
   "cell_type": "code",
   "execution_count": null,
   "id": "aa664f8f",
   "metadata": {},
   "outputs": [],
   "source": [
    "#Some auxiliary parameters (must be equal to those in definitions.h)\n",
    "tt0=300\n",
    "p0=1.e5\n",
    "R=287.058\n",
    "gamma=1.4\n",
    "g=9.8\n",
    "rho0=p0/(R*tt0)\n",
    "aux2=(gamma-1.0)/gamma*g/(R*tt0)\n",
    "\n",
    "#Initial condition and equilibrium state            \n",
    "for l in range(0,xcells): \n",
    "        for m in range(0,ycells): \n",
    "            for n in range(0,zcells):\n",
    "                \n",
    "                #This is the equilibrium state (in this case, adiabatic equilibrium):\n",
    "                rhoe[l,m,n]=rho0*(1.0-aux2*zc[l,m,n])**(1.0/(gamma-1.0))\n",
    "                pe  [l,m,n]=p0*  (1.0-aux2*zc[l,m,n])**(gamma/(gamma-1.0))\n",
    "                ue  [l,m,n]=0.0\n",
    "                ve  [l,m,n]=0.0\n",
    "                we  [l,m,n]=0.0\n",
    "                \n",
    "                #This is the initial condition\n",
    "                xp=10000;\n",
    "                zp=2000;\n",
    "                d1=np.sqrt((xc[l,m,n]-xp)*(xc[l,m,n]-xp)+(zc[l,m,n]-zp)*(zc[l,m,n]-zp));\n",
    "\n",
    "                xp=10000;\n",
    "                zp=8000;\n",
    "                d2=np.sqrt((xc[l,m,n]-xp)*(xc[l,m,n]-xp)+(zc[l,m,n]-zp)*(zc[l,m,n]-zp));\n",
    "\n",
    "                rc=1000;\n",
    "                aux1=20.0*(max(rc-d1/2.0,0.0)+min(d2/2.0-rc,0.0))/1000;\n",
    "\n",
    "                tt=tt0+aux1;\n",
    "                aux2=(gamma-1.0)/gamma*g/(R*tt0);\n",
    "                \n",
    "                rho[l,m,n]=p0/(R*tt)*(1.0-aux2*zc[l,m,n])**(1.0/(gamma-1.0)) #density\n",
    "                p  [l,m,n]=p0* (1.0-aux2*zc[l,m,n])**(gamma/(gamma-1.0)) #pressure\n",
    "                u  [l,m,n]=0.0 #x-velocity\n",
    "                v  [l,m,n]=0.0 #y-velocity\n",
    "                w  [l,m,n]=0.0 #z-velocity\n",
    "                phi[l,m,n]=0.0 #solute"
   ]
  },
  {
   "cell_type": "markdown",
   "id": "6902d5b0",
   "metadata": {},
   "source": [
    "Now, the configuration and initial condition (and equilibrium) files are written: "
   ]
  },
  {
   "cell_type": "code",
   "execution_count": null,
   "id": "cf3d48ee",
   "metadata": {},
   "outputs": [],
   "source": [
    "write_config(folder_case, fname_config, FinalTime, DumpTime, CFL, Order, xcells, ycells, zcells, SizeX, SizeY, SizeZ, Face_1, Face_2, Face_3, Face_4, Face_5, Face_6, u_x, u_y, u_z)\n",
    "write_equilibrium(folder_case, fname_eq, xcells, ycells, zcells, xc, yc, zc, ue, ve, we, rhoe, pe)       \n",
    "write_initial(folder_case, fname_ini, xcells, ycells, zcells, xc, yc, zc, u, v, w, rho, p, phi)"
   ]
  },
  {
   "cell_type": "markdown",
   "id": "7ce0a595",
   "metadata": {},
   "source": [
    "### Compilation and execution\n",
    "\n",
    "The program is compiled and executed:"
   ]
  },
  {
   "cell_type": "code",
   "execution_count": null,
   "id": "add0e7c4",
   "metadata": {},
   "outputs": [],
   "source": [
    "compile_program()\n",
    "print(\"Program is running...\")\n",
    "run_program(folder_exe+\"./exehow3d \"+folder_case)"
   ]
  },
  {
   "cell_type": "markdown",
   "id": "06d0d846",
   "metadata": {},
   "source": [
    "### Reading data and plotting\n",
    "\n",
    "To read data, we use\n",
    "This can be customized for each particular case. "
   ]
  },
  {
   "cell_type": "code",
   "execution_count": null,
   "id": "c55f6131",
   "metadata": {},
   "outputs": [],
   "source": [
    "files = glob(folder_out+\"/*.out\")\n",
    "lf=len(files)\n",
    "print(files)\n",
    "\n",
    "gamma=1.4\n",
    "j=0\n",
    "print(\"Printing figures in folder\"+folder_out)\n",
    "for fname in files:\n",
    "    \n",
    "    u, v, w, rho, p, phi, theta, E = read_data_euler(fname, xcells, ycells, zcells, lf, gamma, j)\n",
    "                  \n",
    "    filename = fname+\"_theta2D\"\n",
    "    \n",
    "    xp = xc[:,0,0]     #puntos en x\n",
    "    zp = zc[0,0,:]      #puntos en y\n",
    "    X, Y = np.meshgrid(xp, zp)    #matriz de puntos\n",
    "    Srho=np.transpose(rho[:,0,:,j])\n",
    "    Spres=np.transpose(p[:,0,:,j])\n",
    "    Svel=np.transpose(np.sqrt(u[:,0,:,j]**2+w[:,0,:,j]**2))\n",
    "    Senr=np.transpose(E[:,0,:,j])\n",
    "    Sphi=np.transpose(phi[:,0,:,j])\n",
    "    Su=np.transpose(u[:,0,:,j])\n",
    "    Sth=np.transpose(theta[:,0,:,j])\n",
    "    \n",
    "    fig, ax = plt.subplots(figsize=(10, 5))      #genera el objeto \"figura\"\n",
    "    levels = np.linspace(280, 320, 16)\n",
    "    #print(levels)\n",
    "    plot1=ax.contour(X, Y, Sth, levels=levels,colors=\"k\",linewidths=0.5)  \n",
    "    plot1=ax.contourf(X, Y, Sth, 200, cmap='RdBu')   \n",
    "    ax.set_title('Potential temperature')\n",
    "    ax.set_xlabel(\"x\") \n",
    "    ax.set_ylabel(\"z\") \n",
    "    ax.set_aspect('equal', 'box')\n",
    "    plot1.set_clim( 280, 320 )\n",
    "    # Create colorbar\n",
    "    cbar = plt.colorbar(plot1)\n",
    "    #cbar_ticks = levels\n",
    "    #cbar.set_ticks(cbar_ticks)\n",
    "    cbar.ax.set_title('θ(K)')\n",
    "    fig.text(0.15, 0.72, \"θ_max=\"+str(round(np.max(Sth),3)), fontsize=9.5)\n",
    "    fig.text(0.15, 0.68, \"θ_min=\"+str(round(np.min(Sth),3)), fontsize=9.5)\n",
    "    \n",
    "    fig.savefig(filename+\".png\",dpi=500)\n",
    "    \n",
    "    j=j+1\n",
    "         "
   ]
  }
 ],
 "metadata": {
  "kernelspec": {
   "display_name": "Python 3",
   "language": "python",
   "name": "python3"
  },
  "language_info": {
   "codemirror_mode": {
    "name": "ipython",
    "version": 3
   },
   "file_extension": ".py",
   "mimetype": "text/x-python",
   "name": "python",
   "nbconvert_exporter": "python",
   "pygments_lexer": "ipython3",
   "version": "3.7.16"
  }
 },
 "nbformat": 4,
 "nbformat_minor": 5
}
