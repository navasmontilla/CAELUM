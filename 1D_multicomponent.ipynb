{
 "cells": [
  {
   "cell_type": "markdown",
   "metadata": {},
   "source": [
    "## Benchmark 1: 1D Riemann problems\n",
    "\n",
    "### Simulation parameters\n"
   ]
  },
  {
   "cell_type": "markdown",
   "metadata": {},
   "source": [
    "Libraries are imported and program folders and files are defined:"
   ]
  },
  {
   "cell_type": "code",
   "execution_count": 11,
   "metadata": {},
   "outputs": [],
   "source": [
    "import math                    \n",
    "import numpy as np             \n",
    "import matplotlib.pyplot as plt \n",
    "\n",
    "folder_case=\"case\"\n",
    "folder_out=\"output-files\"\n",
    "\n",
    "fname_config=\"configure.input\"\n",
    "fname_ini=\"initial.out\"\n",
    "\n",
    "#data must be deleted before running"
   ]
  },
  {
   "cell_type": "markdown",
   "metadata": {},
   "source": [
    "Simulation configuration:"
   ]
  },
  {
   "cell_type": "code",
   "execution_count": 12,
   "metadata": {},
   "outputs": [],
   "source": [
    "#Simulation setup\n",
    "FinalTime = 0.011\n",
    "DumpTime = 0.5\n",
    "CFL = 0.4\n",
    "Order = 5\n",
    "\n",
    "#Mesh setup\n",
    "xcells = 100\n",
    "ycells = 1\n",
    "zcells = 1\n",
    "SizeX = 1.0\n",
    "SizeY = 1.0\n",
    "SizeZ = 1.0\n",
    "\n",
    "#Boundary conditions\n",
    "Face_1 = 3 #-y\n",
    "Face_2 = 3 #+x\n",
    "Face_3 = 3 #+y\n",
    "Face_4 = 3 #-x\n",
    "Face_5 = 3 #-z\n",
    "Face_6 = 3 #+z\n",
    "\n",
    "#Linear transport, only if applicable\n",
    "u_x = 1.0\n",
    "u_y = 1.0\n",
    "u_z = 1.0\n",
    "\n"
   ]
  },
  {
   "cell_type": "markdown",
   "metadata": {},
   "source": [
    "### Initial conditions"
   ]
  },
  {
   "cell_type": "code",
   "execution_count": 13,
   "metadata": {},
   "outputs": [],
   "source": [
    "dx=SizeX/xcells\n",
    "dy=SizeY/ycells\n",
    "dz=SizeZ/zcells\n",
    "\n",
    "xc=np.zeros((xcells,ycells,zcells))\n",
    "yc=np.zeros((xcells,ycells,zcells))\n",
    "zc=np.zeros((xcells,ycells,zcells))\n",
    "\n",
    "u=np.zeros((xcells,ycells,zcells))\n",
    "v=np.zeros((xcells,ycells,zcells))\n",
    "w=np.zeros((xcells,ycells,zcells))\n",
    "rho=np.zeros((xcells,ycells,zcells))\n",
    "p=np.zeros((xcells,ycells,zcells))  \n",
    "phi=np.zeros((xcells,ycells,zcells))  \n",
    "    \n",
    "x=np.arange(0+dx/2.0, SizeX, dx)\n",
    "y=np.arange(0+dy/2.0, SizeY, dy)\n",
    "z=np.arange(0+dz/2.0, SizeZ, dz)\n",
    "\n",
    "xc, yc, zc= np.meshgrid(x,y,z,indexing='ij')\n"
   ]
  },
  {
   "cell_type": "code",
   "execution_count": 14,
   "metadata": {},
   "outputs": [],
   "source": [
    "case=1\n",
    "\n",
    "if case==1: #RP1 Sod shock\n",
    "    FinalTime = 0.16\n",
    "    for l in range(0,xcells): \n",
    "        if (xc[l,:,:]<0.5):\n",
    "            rho[l,:,:]=1.0\n",
    "            p  [l,:,:]=1.0\n",
    "            u  [l,:,:]=0.0\n",
    "            phi[l,:,:]=1/(1.4-1) #1/(gamma-1) for gamma formulation\n",
    "        else:\n",
    "            rho[l,:,:]=0.125\n",
    "            p  [l,:,:]=0.1\n",
    "            u  [l,:,:]=0.0\n",
    "            phi[l,:,:]=1/(1.6-1)\n",
    "    exactS  = np.loadtxt(\"exact/RP1_multi.txt\") \n",
    "        \n",
    "\n",
    "   "
   ]
  },
  {
   "cell_type": "markdown",
   "metadata": {},
   "source": [
    "### Writing files"
   ]
  },
  {
   "cell_type": "code",
   "execution_count": 15,
   "metadata": {
    "tags": []
   },
   "outputs": [],
   "source": [
    "f = open(folder_case+\"/\"+fname_config, \"w\")\n",
    "f.write(\"/////SIMULATION_SETUP////// \\n\")\n",
    "f.write(\"FinalTime    \"+str(FinalTime)+\"\\n\")\n",
    "f.write(\"DumpTime    \"+str(DumpTime)+\"\\n\")\n",
    "f.write(\"CFL    \"+str(CFL)+\"\\n\")\n",
    "f.write(\"Order    \"+str(Order)+\"\\n\")\n",
    "f.write(\" \\n\")\n",
    "f.write(\"////////MESH_SETUP/////////\\n\")\n",
    "f.write(\"xcells    \"+str(xcells)+\"\\n\")\n",
    "f.write(\"ycells    \"+str(ycells)+\"\\n\")\n",
    "f.write(\"zcells    \"+str(zcells)+\"\\n\")\n",
    "f.write(\"SizeX    \"+str(SizeX)+\"\\n\")\n",
    "f.write(\"SizeY    \"+str(SizeY)+\"\\n\")\n",
    "f.write(\"SizeZ    \"+str(SizeZ)+\"\\n\")\n",
    "f.write(\" \\n\")\n",
    "f.write(\"///////BOUNDARY_COND///////\\n\")\n",
    "f.write(\"Face_1    \"+str(Face_1)+\"\\n\")\n",
    "f.write(\"Face_2    \"+str(Face_2)+\"\\n\")\n",
    "f.write(\"Face_3    \"+str(Face_3)+\"\\n\")\n",
    "f.write(\"Face_4    \"+str(Face_4)+\"\\n\")\n",
    "f.write(\"Face_5    \"+str(Face_5)+\"\\n\")\n",
    "f.write(\"Face_6    \"+str(Face_6)+\"\\n\")\n",
    "f.write(\" \\n\")\n",
    "f.write(\"///////LINEAR_TRANSPORT///////(if_applicable)\\n\")\n",
    "f.write(\"u_x    \"+str(u_x)+\"\\n\")\n",
    "f.write(\"u_y    \"+str(u_y)+\"\\n\")\n",
    "f.write(\"u_z    \"+str(u_z)+\"\\n\")\n",
    "f.close()\n",
    "\n",
    "\n",
    "f = open(folder_case+\"/\"+fname_ini, \"w\")\n",
    "f.write(\"VARIABLES = X, Y, Z, u, v, w, rho, p, phi \\n\")\n",
    "f.write(\"CELLS = \"+str(xcells)+\", \"+str(ycells)+\", \"+str(zcells)+\",\"+\"\\n\")\n",
    "for l in range(0,xcells):   \n",
    "    for m in range(0,ycells):\n",
    "        for n in range(0,zcells):\n",
    "            f.write(str(xc[l,m,n])+\" \"+str(yc[l,m,n])+\" \"+str(zc[l,m,n])+\" \"+str(u[l,m,n])+\" \"+str(v[l,m,n])+\" \"+str(w[l,m,n])+\" \"+str(rho[l,m,n])+\" \"+str(p[l,m,n])+\" \"+str(phi[l,m,n])+\"\\n\")\n",
    "\n",
    "f.close()         \n"
   ]
  },
  {
   "cell_type": "markdown",
   "metadata": {},
   "source": [
    "### Running the code"
   ]
  },
  {
   "cell_type": "code",
   "execution_count": 16,
   "metadata": {
    "scrolled": false
   },
   "outputs": [
    {
     "name": "stdout",
     "output_type": "stream",
     "text": [
      "b''\n",
      "b'\\x1b[94mAuthors:'\n",
      "b' - Adri\\xc3\\xa1n Navas Montilla'\n",
      "b' - Isabel Echeverribar'\n",
      "b'Copyright (C) 2018-2019 The authors.'\n",
      "b''\n",
      "b'License type: Creative Commons Attribution-NonCommercial-NoDerivs 3.0 Spain (CC BY-NC-ND 3.0 ES under the following terms:'\n",
      "b''\n",
      "b' - Attribution \\xe2\\x80\\x94 You must give appropriate credit and provide a link to the license.'\n",
      "b' - NonCommercial \\xe2\\x80\\x94 You may not use the material for commercial purposes.'\n",
      "b' - NoDerivatives \\xe2\\x80\\x94 If you remix, transform, or build upon the material, you may not distribute the modified material unless explicit permission of the authors is provided.'\n",
      "b''\n",
      "b'Disclaimer: This software is distributed for research and/or academic purposes, WITHOUT ANY WARRANTY. In no event shall the authors be liable for any claim, damages or other liability, arising from, out of or in connection with the software or the use or other dealings in this software.\\x1b[0m'\n",
      "b''\n",
      "b' \\x1b[4mSIMULATION SETUP:\\x1b[0m'\n",
      "b' WENO reconstruction of order 5 is chosen.'\n",
      "b' Final time: 0.160000'\n",
      "b' CFL: 0.400000'\n",
      "b' Number of cells X: 100'\n",
      "b' Number of cells Y: 1'\n",
      "b' Number of cells Z: 1'\n",
      "b' Domain size: 1.000000 x 1.000000 x 1.000000'\n",
      "b' Boundaries (1: periodic, 2: user defined, 3: transmissive, 4: solid wall):'\n",
      "b' Face_1(-y): 3'\n",
      "b' Face_2(+x): 3'\n",
      "b' Face_3(+y): 3'\n",
      "b' Face_4(-x): 3'\n",
      "b' Face_5(-z): 3'\n",
      "b' Face_6(+z): 3'\n",
      "b''\n",
      "b'\\x1b[1;35m [OK]\\x1b[0m  Configuration file has been read'\n",
      "b'\\x1b[1;35m [OK]\\x1b[0m  Memory has been allocated and mesh connectivity has been defined'\n",
      "b''\n",
      "b'\\x1b[1;35m [OK]\\x1b[0m  Initial state file has been read'\n",
      "b'\\x1b[1;35m [OK]\\x1b[0m  An VTK has been dumped: output-files/inital_geo_mesh.vtk'\n",
      "b'\\x1b[1;35m [OK]\\x1b[0m  An VTK has been dumped: output-files/state000.vtk'\n",
      "b''\n",
      "b' T= 0.0e+0, Initial data printed. Starting time loop.'\n",
      "b''\n",
      "b''\n",
      "b' Final time is T= 1.60000010000000e-001'\n",
      "b''\n",
      "b'\\x1b[1;35m [OK]\\x1b[0m  An VTK has been dumped: output-files/state001.vtk'\n",
      "b'\\x1b[1;32m  =)\\x1b[0m  Under development. Please, be patient. Thanks!'\n"
     ]
    },
    {
     "data": {
      "text/plain": [
       "1"
      ]
     },
     "execution_count": 16,
     "metadata": {},
     "output_type": "execute_result"
    }
   ],
   "source": [
    "import subprocess\n",
    "\n",
    "binary=\"euler_two.exe\"      \n",
    "\n",
    "def system_call(command):\n",
    "    p = subprocess.Popen([command], stdout=subprocess.PIPE, shell=True)\n",
    "    while True:\n",
    "        line = p.stdout.readline()\n",
    "        if not line:\n",
    "            break\n",
    "        print(line.rstrip())\n",
    "    return 1\n",
    "\n",
    "system_call(binary)"
   ]
  },
  {
   "cell_type": "markdown",
   "metadata": {},
   "source": [
    "### Reading and plotting data:"
   ]
  },
  {
   "cell_type": "markdown",
   "metadata": {},
   "source": [
    "Reading data:"
   ]
  },
  {
   "cell_type": "code",
   "execution_count": 17,
   "metadata": {
    "scrolled": false
   },
   "outputs": [
    {
     "name": "stdout",
     "output_type": "stream",
     "text": [
      "output-files\\list000.out file read\n",
      "output-files\\list001.out file read\n"
     ]
    }
   ],
   "source": [
    "from glob import glob\n",
    "\n",
    "files = glob(folder_out+\"/list*\")\n",
    "lf=len(files)\n",
    "\n",
    "x=np.zeros((xcells,ycells,zcells))\n",
    "y=np.zeros((xcells,ycells,zcells))\n",
    "z=np.zeros((xcells,ycells,zcells))\n",
    "\n",
    "u=np.zeros((xcells,ycells,zcells,lf))\n",
    "v=np.zeros((xcells,ycells,zcells,lf))\n",
    "w=np.zeros((xcells,ycells,zcells,lf))\n",
    "rho=np.zeros((xcells,ycells,zcells,lf))\n",
    "p=np.zeros((xcells,ycells,zcells,lf))\n",
    "phi=np.zeros((xcells,ycells,zcells,lf))\n",
    "E=np.zeros((xcells,ycells,zcells,lf))\n",
    "\n",
    "gamma=1.4\n",
    "\n",
    "j=0\n",
    "for fname in files:\n",
    "    print(fname+\" file read\")\n",
    "    data     = np.loadtxt(fname, skiprows=2)\n",
    "    k=0\n",
    "    for l in range(0,xcells):   \n",
    "        for m in range(0,ycells):\n",
    "            for n in range(0,zcells):\n",
    "                #k = l + m*xcells + n*xcells*ycells\n",
    "                xc[l,m,n]=data[k,0]\n",
    "                yc[l,m,n]=data[k,1]\n",
    "                zc[l,m,n]=data[k,2]\n",
    "                u[l,m,n,j]=data[k,3]\n",
    "                v[l,m,n,j]=data[k,4]\n",
    "                w[l,m,n,j]=data[k,5]\n",
    "                rho[l,m,n,j]=data[k,6]\n",
    "                p[l,m,n,j]=data[k,7]\n",
    "                phi[l,m,n,j]=data[k,8]\n",
    "                gamma=1.0+1.0/phi[l,m,n,j] #phi = 1/(1-gamma) version\n",
    "                E[l,m,n,j]=p[l,m,n,j]/(gamma-1.0)+0.5*rho[l,m,n,j]*(u[l,m,n,j]*u[l,m,n,j] + v[l,m,n,j]*v[l,m,n,j] + w[l,m,n,j]*w[l,m,n,j]);\n",
    "                k+=1       \n",
    "    j=j+1"
   ]
  },
  {
   "cell_type": "markdown",
   "metadata": {},
   "source": [
    "**1D PLOT:**"
   ]
  },
  {
   "cell_type": "code",
   "execution_count": 18,
   "metadata": {
    "scrolled": false
   },
   "outputs": [
    {
     "name": "stdout",
     "output_type": "stream",
     "text": [
      "2.5224921992675\n",
      "1.66567753569305\n"
     ]
    },
    {
     "data": {
      "image/png": "[encoded data removed]",
      "text/plain": [
       "<Figure size 1008x576 with 4 Axes>"
      ]
     },
     "metadata": {
      "needs_background": "light"
     },
     "output_type": "display_data"
    }
   ],
   "source": [
    "j=1\n",
    "\n",
    "filename = \"doc/bench_multicomponent_\"+str(case)\n",
    "\n",
    "fig, ax  = plt.subplots(2,2,figsize=(14, 8))\n",
    "\n",
    "ax[0,0].plot(xc[:,0,0],rho[:,0,0,j],'o-')\n",
    "if 'exactS' in globals():\n",
    "    ax[0,0].plot(exactS[:,0],exactS[:,1],'k-') \n",
    "ax[0,0].set_xlabel(\"x\") \n",
    "ax[0,0].set_ylabel(\"density\") \n",
    "\n",
    "ax[0,1].plot(xc[:,0,0],p[:,0,0,j],'o-')\n",
    "#if 'exactS' in globals():\n",
    "    #ax[0,1].plot(exactS[:,0],exactS[:,2],'k-') \n",
    "ax[0,1].set_xlabel(\"x\") \n",
    "ax[0,1].set_ylabel(\"pressure\") \n",
    "\n",
    "ax[1,0].plot(xc[:,0,0],u[:,0,0,j],'o-') \n",
    "#if 'exactS' in globals():\n",
    "    #ax[1,0].plot(exactS[:,0],exactS[:,3],'k-') \n",
    "ax[1,0].set_xlabel(\"x\") \n",
    "ax[1,0].set_ylabel(\"velocity u\") \n",
    "\n",
    "ax[1,1].plot(xc[:,0,0],phi[:,0,0,j],'o-') \n",
    "ax[1,1].set_xlabel(\"x\") \n",
    "ax[1,1].set_ylabel(\"phi\") \n",
    "\n",
    "#ax[2,0].plot(xc[:,0,0],E[:,0,0,j],'o-')  \n",
    "#ax[2,0].set_xlabel(\"x\") \n",
    "#ax[2,0].set_ylabel(\"energy\") \n",
    "\n",
    "print(np.max(phi))\n",
    "print(np.min(phi))\n",
    "\n",
    "fig.savefig(filename+\".png\",dpi=500)"
   ]
  },
  {
   "cell_type": "markdown",
   "metadata": {},
   "source": [
    "## Compare orders"
   ]
  },
  {
   "cell_type": "code",
   "execution_count": 19,
   "metadata": {},
   "outputs": [
    {
     "name": "stdout",
     "output_type": "stream",
     "text": [
      "1\n",
      "output-files\\list000.out file read\n",
      "output-files\\list001.out file read\n",
      "3\n",
      "output-files\\list000.out file read\n",
      "output-files\\list001.out file read\n",
      "5\n",
      "output-files\\list000.out file read\n",
      "output-files\\list001.out file read\n",
      "7\n",
      "output-files\\list000.out file read\n",
      "output-files\\list001.out file read\n"
     ]
    },
    {
     "data": {
      "image/png": "[encoded data removed]",
      "text/plain": [
       "<Figure size 1008x576 with 4 Axes>"
      ]
     },
     "metadata": {
      "needs_background": "light"
     },
     "output_type": "display_data"
    }
   ],
   "source": [
    "j=1\n",
    "\n",
    "filename = \"doc/bench_multicomponent_comp_\"+str(case)\n",
    "fig, ax  = plt.subplots(2,2,figsize=(14,8))\n",
    "\n",
    "\n",
    "for mm in [1,3,5,7]:\n",
    "    Order = mm\n",
    "    print(Order)\n",
    "\n",
    "    f = open(folder_case+\"/\"+fname_config, \"w\")\n",
    "    f.write(\"/////SIMULATION_SETUP////// \\n\")\n",
    "    f.write(\"FinalTime    \"+str(FinalTime)+\"\\n\")\n",
    "    f.write(\"DumpTime    \"+str(DumpTime)+\"\\n\")\n",
    "    f.write(\"CFL    \"+str(CFL)+\"\\n\")\n",
    "    f.write(\"Order    \"+str(Order)+\"\\n\")\n",
    "    f.write(\" \\n\")\n",
    "    f.write(\"////////MESH_SETUP/////////\\n\")\n",
    "    f.write(\"xcells    \"+str(xcells)+\"\\n\")\n",
    "    f.write(\"ycells    \"+str(ycells)+\"\\n\")\n",
    "    f.write(\"zcells    \"+str(zcells)+\"\\n\")\n",
    "    f.write(\"SizeX    \"+str(SizeX)+\"\\n\")\n",
    "    f.write(\"SizeY    \"+str(SizeY)+\"\\n\")\n",
    "    f.write(\"SizeZ    \"+str(SizeZ)+\"\\n\")\n",
    "    f.write(\" \\n\")\n",
    "    f.write(\"///////BOUNDARY_COND///////\\n\")\n",
    "    f.write(\"Face_1    \"+str(Face_1)+\"\\n\")\n",
    "    f.write(\"Face_2    \"+str(Face_2)+\"\\n\")\n",
    "    f.write(\"Face_3    \"+str(Face_3)+\"\\n\")\n",
    "    f.write(\"Face_4    \"+str(Face_4)+\"\\n\")\n",
    "    f.write(\"Face_5    \"+str(Face_5)+\"\\n\")\n",
    "    f.write(\"Face_6    \"+str(Face_6)+\"\\n\")\n",
    "    f.write(\" \\n\")\n",
    "    f.write(\"///////LINEAR_TRANSPORT///////(if_applicable)\\n\")\n",
    "    f.write(\"u_x    \"+str(u_x)+\"\\n\")\n",
    "    f.write(\"u_y    \"+str(u_y)+\"\\n\")\n",
    "    f.write(\"u_z    \"+str(u_z)+\"\\n\")\n",
    "    f.close()\n",
    "    \n",
    "    binary=\"euler_two.exe\"      \n",
    "\n",
    "    def system_call(command):\n",
    "        p = subprocess.Popen([command], stdout=subprocess.PIPE, shell=True)\n",
    "        while True:\n",
    "            line = p.stdout.readline()\n",
    "            if not line:\n",
    "                break\n",
    "            #print(line.rstrip())\n",
    "        return 1\n",
    "\n",
    "    system_call(binary)\n",
    "    \n",
    "    j=0\n",
    "    for fname in files:\n",
    "        print(fname+\" file read\")\n",
    "        data     = np.loadtxt(fname, skiprows=2)\n",
    "        k=0\n",
    "        for l in range(0,xcells):   \n",
    "            for m in range(0,ycells):\n",
    "                for n in range(0,zcells):\n",
    "                    #k = l + m*xcells + n*xcells*ycells\n",
    "                    xc[l,m,n]=data[k,0]\n",
    "                    yc[l,m,n]=data[k,1]\n",
    "                    zc[l,m,n]=data[k,2]\n",
    "                    u[l,m,n,j]=data[k,3]\n",
    "                    v[l,m,n,j]=data[k,4]\n",
    "                    w[l,m,n,j]=data[k,5]\n",
    "                    rho[l,m,n,j]=data[k,6]\n",
    "                    p[l,m,n,j]=data[k,7]\n",
    "                    phi[l,m,n,j]=data[k,8]\n",
    "                    gamma=1.0+1.0/phi[l,m,n,j] #phi = 1/(1-gamma) version\n",
    "                    E[l,m,n,j]=p[l,m,n,j]/(gamma-1.0)+0.5*rho[l,m,n,j]*(u[l,m,n,j]*u[l,m,n,j] + v[l,m,n,j]*v[l,m,n,j] + w[l,m,n,j]*w[l,m,n,j]);\n",
    "                    k+=1       \n",
    "        j=j+1\n",
    "      \n",
    "    \n",
    "    j=1\n",
    "    ax[0,0].plot(xc[:,0,0],rho[:,0,0,j],'o-')\n",
    "    if 'exactS' in globals():\n",
    "        ax[0,0].plot(exactS[:,0],exactS[:,1],'k-') \n",
    "    ax[0,0].set_xlabel(\"x\") \n",
    "    ax[0,0].set_ylabel(\"density\") \n",
    "\n",
    "    ax[0,1].plot(xc[:,0,0],p[:,0,0,j],'o-')\n",
    "    #if 'exactS' in globals():\n",
    "        #ax[0,1].plot(exactS[:,0],exactS[:,2],'k-') \n",
    "    ax[0,1].set_xlabel(\"x\") \n",
    "    ax[0,1].set_ylabel(\"pressure\") \n",
    "\n",
    "    ax[1,0].plot(xc[:,0,0],u[:,0,0,j],'o-') \n",
    "    #if 'exactS' in globals():\n",
    "        #ax[1,0].plot(exactS[:,0],exactS[:,3],'k-') \n",
    "    ax[1,0].set_xlabel(\"x\") \n",
    "    ax[1,0].set_ylabel(\"velocity u\") \n",
    "\n",
    "    ax[1,1].plot(xc[:,0,0],phi[:,0,0,j],'o-') \n",
    "    ax[1,1].set_xlabel(\"x\") \n",
    "    ax[1,1].set_ylabel(\"phi\") \n",
    "    \n",
    "    \n",
    "    \n",
    "    \n",
    "fig.savefig(filename+\".png\",dpi=500)"
   ]
  },
  {
   "cell_type": "code",
   "execution_count": 20,
   "metadata": {},
   "outputs": [],
   "source": [
    "#Author:\n",
    "# - Adrián Navas Montilla\n",
    "#\n",
    "#Copyright (C) 2021 The author.  \n",
    "#\n",
    "#License type: Creative Commons Attribution-NonCommercial-NoDerivs 3.0 Spain (CC BY-NC-ND 3.0 ES https://creativecommons.org/licenses/by-nc-nd/3.0/es/deed.en) under the following terms: \n",
    "#\n",
    "#- Attribution — You must give appropriate credit and provide a link to the license.\n",
    "#- NonCommercial — You may not use the material for commercial purposes.\n",
    "#- NoDerivatives — If you remix, transform, or build upon the material, you may not distribute the modified material unless explicit permission of the authors is provided. \n",
    "#\n",
    "#Disclaimer: This software is distributed for research and/or academic purposes, WITHOUT ANY WARRANTY. In no event shall the authors be liable for any claim, damages or other liability, arising from, out of or in connection with the software or the use or other dealings in this software.\n"
   ]
  },
  {
   "cell_type": "code",
   "execution_count": null,
   "metadata": {},
   "outputs": [],
   "source": []
  }
 ],
 "metadata": {
  "kernelspec": {
   "display_name": "Python 3",
   "language": "python",
   "name": "python3"
  },
  "language_info": {
   "codemirror_mode": {
    "name": "ipython",
    "version": 3
   },
   "file_extension": ".py",
   "mimetype": "text/x-python",
   "name": "python",
   "nbconvert_exporter": "python",
   "pygments_lexer": "ipython3",
   "version": "3.8.8"
  },
  "toc-showcode": false,
  "toc-showmarkdowntxt": false,
  "toc-showtags": false
 },
 "nbformat": 4,
 "nbformat_minor": 4
}
